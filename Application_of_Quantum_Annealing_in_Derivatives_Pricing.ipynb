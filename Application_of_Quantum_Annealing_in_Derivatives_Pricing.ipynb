{
  "nbformat": 4,
  "nbformat_minor": 0,
  "metadata": {
    "colab": {
      "provenance": []
    },
    "kernelspec": {
      "name": "python3",
      "display_name": "Python 3"
    },
    "language_info": {
      "name": "python"
    }
  },
  "cells": [
    {
      "cell_type": "markdown",
      "source": [
        "# Application of Quantum Annealing in Identifying Financial Portfolio Correlations\n",
        "\n",
        "Authors:"
      ],
      "metadata": {
        "id": "eQFBWxJAvT87"
      }
    },
    {
      "cell_type": "markdown",
      "source": [
        "## Environment Setup"
      ],
      "metadata": {
        "id": "gzQNXptpvU16"
      }
    },
    {
      "cell_type": "code",
      "execution_count": 1,
      "metadata": {
        "colab": {
          "base_uri": "https://localhost:8080/"
        },
        "id": "11ktCp8dVcLy",
        "outputId": "bb0f230f-6b72-46a6-a66b-97f8b49a4696"
      },
      "outputs": [
        {
          "output_type": "stream",
          "name": "stdout",
          "text": [
            "Requirement already satisfied: pandas_datareader in /usr/local/lib/python3.10/dist-packages (0.10.0)\n",
            "Requirement already satisfied: lxml in /usr/local/lib/python3.10/dist-packages (from pandas_datareader) (4.9.4)\n",
            "Requirement already satisfied: pandas>=0.23 in /usr/local/lib/python3.10/dist-packages (from pandas_datareader) (2.0.3)\n",
            "Requirement already satisfied: requests>=2.19.0 in /usr/local/lib/python3.10/dist-packages (from pandas_datareader) (2.31.0)\n",
            "Requirement already satisfied: python-dateutil>=2.8.2 in /usr/local/lib/python3.10/dist-packages (from pandas>=0.23->pandas_datareader) (2.8.2)\n",
            "Requirement already satisfied: pytz>=2020.1 in /usr/local/lib/python3.10/dist-packages (from pandas>=0.23->pandas_datareader) (2023.4)\n",
            "Requirement already satisfied: tzdata>=2022.1 in /usr/local/lib/python3.10/dist-packages (from pandas>=0.23->pandas_datareader) (2024.1)\n",
            "Requirement already satisfied: numpy>=1.21.0 in /usr/local/lib/python3.10/dist-packages (from pandas>=0.23->pandas_datareader) (1.25.2)\n",
            "Requirement already satisfied: charset-normalizer<4,>=2 in /usr/local/lib/python3.10/dist-packages (from requests>=2.19.0->pandas_datareader) (3.3.2)\n",
            "Requirement already satisfied: idna<4,>=2.5 in /usr/local/lib/python3.10/dist-packages (from requests>=2.19.0->pandas_datareader) (3.7)\n",
            "Requirement already satisfied: urllib3<3,>=1.21.1 in /usr/local/lib/python3.10/dist-packages (from requests>=2.19.0->pandas_datareader) (2.0.7)\n",
            "Requirement already satisfied: certifi>=2017.4.17 in /usr/local/lib/python3.10/dist-packages (from requests>=2.19.0->pandas_datareader) (2024.2.2)\n",
            "Requirement already satisfied: six>=1.5 in /usr/local/lib/python3.10/dist-packages (from python-dateutil>=2.8.2->pandas>=0.23->pandas_datareader) (1.16.0)\n",
            "Requirement already satisfied: yfinance in /usr/local/lib/python3.10/dist-packages (0.2.38)\n",
            "Requirement already satisfied: pandas>=1.3.0 in /usr/local/lib/python3.10/dist-packages (from yfinance) (2.0.3)\n",
            "Requirement already satisfied: numpy>=1.16.5 in /usr/local/lib/python3.10/dist-packages (from yfinance) (1.25.2)\n",
            "Requirement already satisfied: requests>=2.31 in /usr/local/lib/python3.10/dist-packages (from yfinance) (2.31.0)\n",
            "Requirement already satisfied: multitasking>=0.0.7 in /usr/local/lib/python3.10/dist-packages (from yfinance) (0.0.11)\n",
            "Requirement already satisfied: lxml>=4.9.1 in /usr/local/lib/python3.10/dist-packages (from yfinance) (4.9.4)\n",
            "Requirement already satisfied: appdirs>=1.4.4 in /usr/local/lib/python3.10/dist-packages (from yfinance) (1.4.4)\n",
            "Requirement already satisfied: pytz>=2022.5 in /usr/local/lib/python3.10/dist-packages (from yfinance) (2023.4)\n",
            "Requirement already satisfied: frozendict>=2.3.4 in /usr/local/lib/python3.10/dist-packages (from yfinance) (2.4.2)\n",
            "Requirement already satisfied: peewee>=3.16.2 in /usr/local/lib/python3.10/dist-packages (from yfinance) (3.17.3)\n",
            "Requirement already satisfied: beautifulsoup4>=4.11.1 in /usr/local/lib/python3.10/dist-packages (from yfinance) (4.12.3)\n",
            "Requirement already satisfied: html5lib>=1.1 in /usr/local/lib/python3.10/dist-packages (from yfinance) (1.1)\n",
            "Requirement already satisfied: soupsieve>1.2 in /usr/local/lib/python3.10/dist-packages (from beautifulsoup4>=4.11.1->yfinance) (2.5)\n",
            "Requirement already satisfied: six>=1.9 in /usr/local/lib/python3.10/dist-packages (from html5lib>=1.1->yfinance) (1.16.0)\n",
            "Requirement already satisfied: webencodings in /usr/local/lib/python3.10/dist-packages (from html5lib>=1.1->yfinance) (0.5.1)\n",
            "Requirement already satisfied: python-dateutil>=2.8.2 in /usr/local/lib/python3.10/dist-packages (from pandas>=1.3.0->yfinance) (2.8.2)\n",
            "Requirement already satisfied: tzdata>=2022.1 in /usr/local/lib/python3.10/dist-packages (from pandas>=1.3.0->yfinance) (2024.1)\n",
            "Requirement already satisfied: charset-normalizer<4,>=2 in /usr/local/lib/python3.10/dist-packages (from requests>=2.31->yfinance) (3.3.2)\n",
            "Requirement already satisfied: idna<4,>=2.5 in /usr/local/lib/python3.10/dist-packages (from requests>=2.31->yfinance) (3.7)\n",
            "Requirement already satisfied: urllib3<3,>=1.21.1 in /usr/local/lib/python3.10/dist-packages (from requests>=2.31->yfinance) (2.0.7)\n",
            "Requirement already satisfied: certifi>=2017.4.17 in /usr/local/lib/python3.10/dist-packages (from requests>=2.31->yfinance) (2024.2.2)\n"
          ]
        }
      ],
      "source": [
        "!pip install pandas_datareader\n",
        "!pip install yfinance"
      ]
    },
    {
      "cell_type": "code",
      "source": [
        "import numpy as np\n",
        "import pandas as pd\n",
        "from pandas_datareader import data as pdr\n",
        "import yfinance as yf\n",
        "import statsmodels.api as sm\n",
        "from abc import ABC, abstractmethod"
      ],
      "metadata": {
        "id": "D-mqg1_u9YIL"
      },
      "execution_count": 2,
      "outputs": []
    },
    {
      "cell_type": "markdown",
      "source": [
        "## Hyperparameters\n",
        "\n",
        "(*) Houcine, Benlaria, et al. \"The relationship between crude oil prices, EUR/USD exchange rate and gold prices.\" International Journal of Energy Economics and Policy 10.5 (2020): 234-242."
      ],
      "metadata": {
        "id": "2JJo-OKJ9qe7"
      }
    },
    {
      "cell_type": "code",
      "source": [
        "# Time of concern\n",
        "concerned_year = '2019'\n",
        "concerned_month = '06'\n",
        "start_date = f'{concerned_year}-01-01'\n",
        "end_date = f'{concerned_year}-12-31'\n",
        "\n",
        "# Proportionality coefficients between data pairs; referenced from (*)\n",
        "euer_gp_pc = 0.51\n",
        "cop_gp_pc = 0.77\n",
        "cop_euer_pc = 0.78\n",
        "\n",
        "# Labels\n",
        "euer_label = 'EUR_to_USD_Exchange_Rate'\n",
        "cop_label = 'Crude_Oil_Price'\n",
        "gp_label = 'Gold_Price'\n",
        "\n",
        "# Large number to prevent results yielding contradicting scenarios\n",
        "large_num = 10**4"
      ],
      "metadata": {
        "id": "vTzAW9N19qCm"
      },
      "execution_count": 3,
      "outputs": []
    },
    {
      "cell_type": "markdown",
      "source": [
        "## Data Processing"
      ],
      "metadata": {
        "id": "zDW7DoJ9AYRo"
      }
    },
    {
      "cell_type": "code",
      "source": [
        "def clean_data(df, label='item'):\n",
        "  \"\"\"\n",
        "  Clean and preprocess time series data.\n",
        "\n",
        "  Parameters:\n",
        "  - df (DataFrame): Input DataFrame containing time series data.\n",
        "  - label (str, optional): Label to assign to the column containing the time series data. Default is 'item'.\n",
        "\n",
        "  Returns:\n",
        "  - DataFrame: Cleaned and preprocessed DataFrame with the following modifications:\n",
        "      - Renames the index axis to 'Date'.\n",
        "      - Renames the first column to the specified `label`.\n",
        "      - Drops rows with missing values.\n",
        "      - Resamples the data to monthly frequency and calculates the mean.\n",
        "      - Converts the index values to strings and retains only the month portion.\n",
        "  \"\"\"\n",
        "  df = (df.rename_axis('Date')\n",
        "      .rename(columns={df.columns[0]: label})\n",
        "      .dropna()\n",
        "      .resample('M')\n",
        "      .mean())\n",
        "  df.index = df.index.astype(str).str[len('YYYY-'):len('YYYY-MM')]\n",
        "  return df"
      ],
      "metadata": {
        "id": "GpX1ncbPD647"
      },
      "execution_count": 4,
      "outputs": []
    },
    {
      "cell_type": "code",
      "source": [
        "def regression_prediction(x, y, X, Y, X_label):\n",
        "  \"\"\"\n",
        "  Perform regression prediction based on the given parameters.\n",
        "\n",
        "  Args:\n",
        "  - x: The x value.\n",
        "  - y: The y value.\n",
        "  - X: The predictor variable.\n",
        "  - Y: The response variable.\n",
        "  - X_label: The label of the predictor variable.\n",
        "\n",
        "  Returns:\n",
        "  - The regression prediction.\n",
        "  \"\"\"\n",
        "  X = sm.add_constant(X)\n",
        "  model = sm.OLS(Y, X)\n",
        "  results = model.fit()\n",
        "  print(results.params[X_label], results.params['const'])\n",
        "  return y - (x * results.params[X_label]) - results.params['const']"
      ],
      "metadata": {
        "id": "hfJKfPAEJsIT"
      },
      "execution_count": 5,
      "outputs": []
    },
    {
      "cell_type": "code",
      "source": [
        "def join_labels_sorted(labels):\n",
        "  return '_'.join(sorted(labels))"
      ],
      "metadata": {
        "id": "Yo0t27z9cpc5"
      },
      "execution_count": 6,
      "outputs": []
    },
    {
      "cell_type": "code",
      "source": [
        "# Get data\n",
        "euer_data_raw = pdr.get_data_fred('DEXUSEU', start_date, end_date)\n",
        "cop_data_raw = pdr.get_data_fred('DCOILWTICO', start_date, end_date)\n",
        "gp_data_raw = pd.DataFrame(\n",
        "    yf.Ticker('GLD')\n",
        "    .history(start=start_date, end=end_date)\n",
        "    ['Close'] # take closing price\n",
        "    )\n",
        "\n",
        "# Clean data\n",
        "euer_data = clean_data(euer_data_raw, euer_label)\n",
        "cop_data = clean_data(cop_data_raw, cop_label)\n",
        "gp_data = clean_data(gp_data_raw, gp_label)"
      ],
      "metadata": {
        "id": "0TM5H7eOA51g"
      },
      "execution_count": 7,
      "outputs": []
    },
    {
      "cell_type": "code",
      "source": [
        "# Current values of concern\n",
        "val_dict = {\n",
        "  euer_label: euer_data.at[concerned_month, euer_label],\n",
        "  cop_label: cop_data.at[concerned_month, cop_label],\n",
        "  gp_label: gp_data.at[concerned_month, gp_label],\n",
        "}\n",
        "\n",
        "# Mean values\n",
        "mean_dict = {\n",
        "  euer_label: euer_data[euer_label].mean(),\n",
        "  cop_label: cop_data[cop_label].mean(),\n",
        "  gp_label: gp_data[gp_label].mean(),\n",
        "}\n",
        "\n",
        "\n",
        "# Regression model between data pairs\n",
        "reg_pred_dict = {\n",
        "  join_labels_sorted([euer_label, gp_label]): regression_prediction(val_dict[euer_label], val_dict[gp_label], euer_data[euer_label], gp_data[gp_label], euer_label),\n",
        "  join_labels_sorted([cop_label, gp_label]): regression_prediction(val_dict[cop_label], val_dict[gp_label], cop_data[cop_label], gp_data[gp_label], cop_label),\n",
        "  join_labels_sorted([cop_label, euer_label]): regression_prediction(val_dict[cop_label], val_dict[euer_label], cop_data[cop_label], euer_data[euer_label], cop_label)\n",
        "}\n",
        "\n",
        "\n",
        "# Proportionality coefficients between data pairs\n",
        "pc_dict = {\n",
        "  join_labels_sorted([euer_label, gp_label]): euer_gp_pc,\n",
        "  join_labels_sorted([cop_label, gp_label]): cop_gp_pc,\n",
        "  join_labels_sorted([cop_label, euer_label]): cop_euer_pc\n",
        "}"
      ],
      "metadata": {
        "id": "OyvLQ4upAWMK",
        "colab": {
          "base_uri": "https://localhost:8080/"
        },
        "outputId": "0158c46a-362a-48dd-dc7e-5e3309339964"
      },
      "execution_count": 8,
      "outputs": [
        {
          "output_type": "stream",
          "name": "stdout",
          "text": [
            "-564.2630482556335 763.178988448503\n",
            "-0.5798785414572458 164.46579637238585\n",
            "-0.0008779112611327919 1.1696349047774341\n"
          ]
        }
      ]
    },
    {
      "cell_type": "code",
      "source": [
        "to_print = {\n",
        "  'val': val_dict,\n",
        "  'mean': mean_dict,\n",
        "  'reg_pred': reg_pred_dict,\n",
        "  'pc': pc_dict\n",
        "}\n",
        "\n",
        "for item_name, item_to_print in to_print.items():\n",
        "  for category, data in item_to_print.items():\n",
        "    print(f'{item_name}_{category}: {data:.4f}')\n",
        "  print()"
      ],
      "metadata": {
        "colab": {
          "base_uri": "https://localhost:8080/"
        },
        "id": "FzBjv0hmfgo9",
        "outputId": "062b37ba-f2e8-43aa-d981-d861c80a7468"
      },
      "execution_count": 9,
      "outputs": [
        {
          "output_type": "stream",
          "name": "stdout",
          "text": [
            "val_EUR_to_USD_Exchange_Rate: 1.1295\n",
            "val_Crude_Oil_Price: 54.6575\n",
            "val_Gold_Price: 128.4715\n",
            "\n",
            "mean_EUR_to_USD_Exchange_Rate: 1.1196\n",
            "mean_Crude_Oil_Price: 56.9807\n",
            "mean_Gold_Price: 131.4239\n",
            "\n",
            "reg_pred_EUR_to_USD_Exchange_Rate_Gold_Price: 2.6361\n",
            "reg_pred_Crude_Oil_Price_Gold_Price: -4.2996\n",
            "reg_pred_Crude_Oil_Price_EUR_to_USD_Exchange_Rate: 0.0079\n",
            "\n",
            "pc_EUR_to_USD_Exchange_Rate_Gold_Price: 0.5100\n",
            "pc_Crude_Oil_Price_Gold_Price: 0.7700\n",
            "pc_Crude_Oil_Price_EUR_to_USD_Exchange_Rate: 0.7800\n",
            "\n"
          ]
        }
      ]
    },
    {
      "cell_type": "markdown",
      "source": [
        "## Formulate QUBO Optimization Function"
      ],
      "metadata": {
        "id": "e-D_ODKJAV8K"
      }
    },
    {
      "cell_type": "code",
      "source": [
        "def _get_label(id):\n",
        "  \"\"\"\n",
        "  Get the label based on the given id.\n",
        "\n",
        "  Args:\n",
        "  - id: An integer representing the label ID.\n",
        "\n",
        "  Returns:\n",
        "  - The corresponding label.\n",
        "\n",
        "  Raises:\n",
        "  - ValueError: If the provided id is invalid.\n",
        "  \"\"\"\n",
        "  if id == 0:\n",
        "    return euer_label\n",
        "\n",
        "  elif id == 1:\n",
        "    return cop_label\n",
        "\n",
        "  elif id == 2:\n",
        "    return gp_label\n",
        "\n",
        "  raise ValueError(f'Invalid id: {id}')\n",
        "\n",
        "\n",
        "def _xi_xi(val, mean, sign=False):\n",
        "  if sign:\n",
        "    return val - mean\n",
        "  return mean - val\n",
        "\n",
        "\n",
        "def _xi_xj(pc, reg_pred, sign=False):\n",
        "  if sign:\n",
        "    return pc * reg_pred\n",
        "  return -1 * pc * reg_pred\n",
        "\n",
        "\n",
        "def build_Q_matrix():\n",
        "  \"\"\"\n",
        "  Build the Q matrix.\n",
        "\n",
        "  Returns:\n",
        "  - The Q matrix.\n",
        "  \"\"\"\n",
        "  matrix_size = 6\n",
        "  matrix = [[0]*matrix_size for i in range(matrix_size)]\n",
        "  for i in range(matrix_size):\n",
        "    for j in range(matrix_size):\n",
        "\n",
        "      label1 = _get_label(int(i / 2))\n",
        "      label2 = _get_label(int(j / 2))\n",
        "\n",
        "      if i == j:\n",
        "        matrix[i][j] = _xi_xi(val_dict[label1], mean_dict[label1], i%2)\n",
        "      elif (i+j) % 2:\n",
        "        matrix[i][j] = large_num\n",
        "      else:\n",
        "        label = join_labels_sorted([label1, label2])\n",
        "        matrix[i][j] = _xi_xj(pc_dict[label], reg_pred_dict[label], i%2)\n",
        "\n",
        "  return np.array(matrix)"
      ],
      "metadata": {
        "id": "DjwB9qRr0Vwg"
      },
      "execution_count": 10,
      "outputs": []
    },
    {
      "cell_type": "code",
      "source": [
        "# Build quadratic coefficient matrix\n",
        "Q = build_Q_matrix()"
      ],
      "metadata": {
        "id": "Bpiglww5U3eu"
      },
      "execution_count": 11,
      "outputs": []
    },
    {
      "cell_type": "markdown",
      "source": [
        "## Solve Solution"
      ],
      "metadata": {
        "id": "kGIPQmrlsqkf"
      }
    },
    {
      "cell_type": "code",
      "source": [
        "min_val, best_X_list = None, None\n",
        "all_X_lists = [euer + cop + gp for euer in [[0,1], [1,0]] for cop in [[0,1], [1,0]] for gp in [[0,1], [1,0]]]\n",
        "\n",
        "for X_list in all_X_lists:\n",
        "  X = np.array(X_list)\n",
        "  val = np.dot(np.dot(np.transpose(X), Q), X)\n",
        "  if min_val == None or val > min_val:\n",
        "    min_val = val\n",
        "    best_X_list = X_list\n",
        "\n",
        "print(f'(x_0, x_1, x_2, x_3, x_4, _x5) = {best_X_list}')"
      ],
      "metadata": {
        "colab": {
          "base_uri": "https://localhost:8080/"
        },
        "id": "s5dfZGCLsp9b",
        "outputId": "6da78456-c0f1-44e8-a0e2-35d6dfed45ae"
      },
      "execution_count": 12,
      "outputs": [
        {
          "output_type": "stream",
          "name": "stdout",
          "text": [
            "(x_0, x_1, x_2, x_3, x_4, _x5) = [0, 1, 1, 0, 1, 0]\n"
          ]
        }
      ]
    },
    {
      "cell_type": "code",
      "source": [],
      "metadata": {
        "id": "KPCmratyCHBI"
      },
      "execution_count": 12,
      "outputs": []
    }
  ]
}